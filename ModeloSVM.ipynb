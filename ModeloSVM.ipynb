{
 "cells": [
  {
   "cell_type": "code",
   "execution_count": 2,
   "id": "5ab91422-b7da-4d06-91ea-ede0bfd272d1",
   "metadata": {},
   "outputs": [],
   "source": [
    "import os\n",
    "import numpy as np\n",
    "from sklearn.svm import SVC\n",
    "from sklearn.model_selection import GridSearchCV\n",
    "from sklearn.metrics import accuracy_score, ConfusionMatrixDisplay, classification_report\n",
    "from sklearn.preprocessing import StandardScaler\n",
    "from sklearn.pipeline import Pipeline"
   ]
  },
  {
   "cell_type": "code",
   "execution_count": 4,
   "id": "ea319243-6ac8-49eb-891e-2aa4448da662",
   "metadata": {},
   "outputs": [],
   "source": [
    "# Carregar os dados\n",
    "X_treino = np.load(os.path.join('X_treino_final.npy'), allow_pickle=True)\n",
    "y_treino = np.load(os.path.join('y_treino_final.npy'))\n",
    "X_teste = np.load(os.path.join('X_teste_final.npy'), allow_pickle=True)\n",
    "y_teste = np.load(os.path.join('y_teste_final.npy'))"
   ]
  },
  {
   "cell_type": "code",
   "execution_count": 5,
   "id": "be33541b-28d8-4aa2-b873-3e8e595feb6b",
   "metadata": {},
   "outputs": [
    {
     "name": "stdout",
     "output_type": "stream",
     "text": [
      "Shape de X_treino: (69600, 59)\n",
      "Shape de y_treino: (69600,)\n",
      "Shape de X_teste: (17400, 59)\n",
      "Shape de y_teste: (17400,)\n"
     ]
    }
   ],
   "source": [
    "# Verificar o tamanho dos arquivos\n",
    "print(f\"Shape de X_treino: {X_treino.shape}\")\n",
    "print(f\"Shape de y_treino: {y_treino.shape}\")\n",
    "print(f\"Shape de X_teste: {X_teste.shape}\")\n",
    "print(f\"Shape de y_teste: {y_teste.shape}\")"
   ]
  },
  {
   "cell_type": "code",
   "execution_count": 7,
   "id": "c5f6e5b1-1622-4a19-9013-e9d9709f1d01",
   "metadata": {},
   "outputs": [],
   "source": [
    "# --- 2. Definir o Pipeline para o Modelo SVM ---\n",
    "# O pipeline inclui o StandardScaler para normalização dos dados e o classificador SVC.\n",
    "# O scaler é crucial para o bom desempenho do SVM.\n",
    "# Usamos with_mean=False no StandardScaler se os dados de entrada forem esparsos (CSR matrix),\n",
    "# pois matrizes esparsas não suportam centralização (subtração da média) de forma eficiente.\n",
    "# Se seus dados são densos, with_mean=True (padrão) é geralmente o ideal.\n",
    "scaler = StandardScaler(with_mean=False if isinstance(X_treino, (np.ndarray, np.matrix)) and X_treino.ndim > 1 and np.sum(X_treino) == 0 else True)\n",
    "\n",
    "svm = SVC(probability=True, random_state=42) # probability=True permite o predict_proba, se necessário. random_state para reprodutibilidade.\n",
    "\n",
    "pipe = Pipeline([\n",
    "    (\"scaler\", scaler),\n",
    "    (\"svm\", svm)\n",
    "])"
   ]
  },
  {
   "cell_type": "code",
   "execution_count": null,
   "id": "65c5ffa7-3cc0-4483-878d-d2f77a43e17b",
   "metadata": {},
   "outputs": [],
   "source": [
    "# --- 3. Definir os Parâmetros para GridSearchCV (Otimização de Hiperparâmetros) ---\n",
    "# Vamos começar com o kernel 'rbf' (Radial Basis Function), que é um bom ponto de partida\n",
    "# para muitos problemas de classificação não linear.\n",
    "params_rbf = {\n",
    "    \"svm__C\": [0.1, 1, 10, 100, 1000],          # Parâmetro de regularização\n",
    "    \"svm__gamma\": [1e-4, 1e-3, 1e-2, 0.1, 1, 'scale', 'auto'], # Coeficiente do kernel\n",
    "    \"svm__kernel\": ['rbf']\n",
    "}\n",
    "\n",
    "# Você pode testar outros kernels também, como 'linear' ou 'sigmoid'\n",
    "# params_linear = {\n",
    "#     \"svm__C\": [0.1, 1, 10, 100],\n",
    "#     \"svm__kernel\": ['linear']\n",
    "# }\n",
    "\n",
    "# params_sigmoid = {\n",
    "#     \"svm__C\": [0.1, 1, 10, 100, 1000],\n",
    "#     \"svm__gamma\": [2e-5, 2e-3, 2e-1, \"auto\", \"scale\"],\n",
    "#     \"svm__coef0\": [0, 1, 10], # Apenas para kernel 'poly' e 'sigmoid'\n",
    "#     \"svm__kernel\": ['sigmoid']\n",
    "# }\n",
    "\n",
    "# Escolha o conjunto de parâmetros que deseja otimizar.\n",
    "# Para este exemplo, vou focar no kernel 'rbf' inicialmente.\n",
    "param_grid = params_rbf\n",
    "\n",
    "modelo_svm = GridSearchCV(\n",
    "    pipe,\n",
    "    param_grid,\n",
    "    cv=5,                  # 5-fold cross-validation\n",
    "    scoring='accuracy',    # Métrica principal para otimização\n",
    "    n_jobs=-1,             # Usa todos os núcleos disponíveis da CPU\n",
    "    verbose=2              # Exibe o progresso do GridSearchCV\n",
    ")\n",
    "\n",
    "print(\"\\n--- Iniciando Treinamento e Otimização do Modelo SVM ---\")\n",
    "print(f\"Parâmetros a serem testados: {param_grid}\")\n",
    "modelo_svm.fit(X_treino, y_treino)\n",
    "\n",
    "# --- 4. Exibir os Melhores Parâmetros e Pontuação de Validação Cruzada ---\n",
    "print(\"\\n--- Resultados da Otimização GridSearchCV ---\")\n",
    "print(f\"Melhores hiperparâmetros encontrados: {modelo_svm.best_params_}\")\n",
    "print(f\"Melhor acurácia da validação cruzada: {modelo_svm.best_score_:.4f}\")\n",
    "\n",
    "# Obter o melhor modelo treinado (com os melhores hiperparâmetros)\n",
    "best_svm_model = modelo_svm.best_estimator_"
   ]
  },
  {
   "cell_type": "code",
   "execution_count": null,
   "id": "09676006-c30d-40d8-8845-7734ebc42467",
   "metadata": {},
   "outputs": [],
   "source": [
    "# --- 5. Avaliação do Modelo no Conjunto de Teste ---\n",
    "print(\"\\n--- Avaliação Final do Modelo SVM no Conjunto de Teste ---\")\n",
    "\n",
    "y_pred = best_svm_model.predict(X_teste)\n",
    "\n",
    "# 5.1. Acurácia\n",
    "accuracy = accuracy_score(y_teste, y_pred)\n",
    "print(f\"Acurácia no conjunto de teste: {accuracy:.4f}\")\n",
    "\n",
    "# 5.2. Relatório de Classificação (Precisão, Recall, F1-Score)\n",
    "# As labels (0, 1, 2...) correspondem à ordem em que as classes foram mapeadas.\n",
    "# Se você tiver uma lista de nomes de classes (ex: ['A', 'B', ..., 'nothing', 'space', 'del']),\n",
    "# pode passá-las para target_names para um relatório mais legível.\n",
    "print(\"\\nRelatório de Classificação:\")\n",
    "print(classification_report(y_teste, y_pred))\n",
    "\n",
    "# 5.3. Matriz de Confusão\n",
    "print(\"\\nMatriz de Confusão:\")\n",
    "# Para ConfusionMatrixDisplay, se o número de classes for grande, a visualização pode ficar apertada.\n",
    "# Você pode ajustar o figsize ou salvar a imagem.\n",
    "\n",
    "# Se você sabe os nomes das suas classes, pode passá-los para display_labels:\n",
    "# Por exemplo: classes_names = [chr(ord('A') + i) for i in range(26)] + ['nothing', 'space', 'del']\n",
    "# display_labels = classes_names\n",
    "\n",
    "# Criar a matriz de confusão. Ajuste o figsize se tiver muitas classes.\n",
    "disp = ConfusionMatrixDisplay.from_estimator(\n",
    "    best_svm_model,\n",
    "    X_teste,\n",
    "    y_teste,\n",
    "    cmap=plt.cm.Blues,\n",
    "    # display_labels=display_labels, # Descomente e defina se tiver nomes de classes\n",
    "    xticks_rotation='vertical' # Útil se os nomes das classes forem longos\n",
    ")\n",
    "disp.ax_.set_title(\"Matriz de Confusão do SVM\")"
   ]
  }
 ],
 "metadata": {
  "kernelspec": {
   "display_name": "my_env",
   "language": "python",
   "name": "my_env"
  },
  "language_info": {
   "codemirror_mode": {
    "name": "ipython",
    "version": 3
   },
   "file_extension": ".py",
   "mimetype": "text/x-python",
   "name": "python",
   "nbconvert_exporter": "python",
   "pygments_lexer": "ipython3",
   "version": "3.12.3"
  }
 },
 "nbformat": 4,
 "nbformat_minor": 5
}
